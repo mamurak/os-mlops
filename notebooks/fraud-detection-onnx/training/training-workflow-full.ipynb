{
 "cells": [
  {
   "cell_type": "code",
   "execution_count": null,
   "id": "4e4f02a2-0ee1-4558-be5e-4e29da391dbb",
   "metadata": {
    "tags": []
   },
   "outputs": [],
   "source": [
    "from datetime import datetime\n",
    "from os import environ\n",
    "\n",
    "from boto3 import client\n",
    "from imblearn.over_sampling import SMOTE\n",
    "from keras.models import Sequential\n",
    "from keras.layers import Dense\n",
    "from keras.optimizers import Adam\n",
    "from model_registry import ModelRegistry\n",
    "from model_registry.utils import S3Params\n",
    "from numpy import load, save\n",
    "import onnx\n",
    "from pandas import read_csv\n",
    "from sklearn.model_selection import StratifiedKFold\n",
    "from sklearn.preprocessing import RobustScaler\n",
    "from tf2onnx import convert"
   ]
  },
  {
   "cell_type": "markdown",
   "id": "e2e01f3f-3013-42b3-b394-d081baae3010",
   "metadata": {},
   "source": [
    "## Reading data connection"
   ]
  },
  {
   "cell_type": "code",
   "execution_count": null,
   "id": "60986d55-552c-4b7b-8bf6-04e60b12634f",
   "metadata": {
    "tags": []
   },
   "outputs": [],
   "source": [
    "s3_endpoint_url = environ.get('AWS_S3_ENDPOINT')\n",
    "s3_access_key = environ.get('AWS_ACCESS_KEY_ID')\n",
    "s3_secret_key = environ.get('AWS_SECRET_ACCESS_KEY')\n",
    "s3_bucket_name = environ.get('AWS_S3_BUCKET')\n",
    "model_registry_endpoint_url = 'MODEL_REGISTRY_ROUTE_URL'  # without port"
   ]
  },
  {
   "cell_type": "markdown",
   "id": "f060c743-aac3-4a7e-ae9f-a652bead4cdc",
   "metadata": {},
   "source": [
    "# Data ingestion"
   ]
  },
  {
   "cell_type": "code",
   "execution_count": null,
   "id": "6c4d4dcb-b214-4f09-9a5d-9318f29d7f20",
   "metadata": {
    "tags": []
   },
   "outputs": [],
   "source": [
    "print(f'Downloading data \"training-data.csv\" '\n",
    "      f'from bucket \"{s3_bucket_name}\" '\n",
    "      f'from S3 storage at {s3_endpoint_url}')\n",
    "\n",
    "s3_client = client(\n",
    "    's3', endpoint_url=s3_endpoint_url,\n",
    "    aws_access_key_id=s3_access_key, aws_secret_access_key=s3_secret_key\n",
    ")\n",
    "\n",
    "s3_client.download_file(\n",
    "    s3_bucket_name,\n",
    "    'data/training-data.csv',\n",
    "    './data/raw_data.csv'\n",
    ")"
   ]
  },
  {
   "cell_type": "markdown",
   "id": "d36a7894-2fc3-40c7-88b5-16473e4dc364",
   "metadata": {},
   "source": [
    "# Data preprocessing"
   ]
  },
  {
   "cell_type": "code",
   "execution_count": null,
   "id": "0e22288c-379f-4177-9415-8e75a2dceee3",
   "metadata": {
    "tags": []
   },
   "outputs": [],
   "source": [
    "df = read_csv('./data/raw_data.csv')\n",
    "\n",
    "rob_scaler = RobustScaler()\n",
    "\n",
    "df['scaled_amount'] = rob_scaler.fit_transform(\n",
    "    df['Amount'].values.reshape(-1, 1)\n",
    ")\n",
    "df['scaled_time'] = rob_scaler.fit_transform(\n",
    "    df['Time'].values.reshape(-1, 1)\n",
    ")\n",
    "df.drop(['Time', 'Amount'], axis=1, inplace=True)\n",
    "scaled_amount = df['scaled_amount']\n",
    "scaled_time = df['scaled_time']\n",
    "\n",
    "df.drop(['scaled_amount', 'scaled_time'], axis=1, inplace=True)\n",
    "df.insert(0, 'scaled_amount', scaled_amount)\n",
    "df.insert(1, 'scaled_time', scaled_time)\n",
    "\n",
    "X = df.drop('Class', axis=1)\n",
    "y = df['Class']\n",
    "sss = StratifiedKFold(n_splits=5, random_state=None, shuffle=False)\n",
    "\n",
    "for train_index, test_index in sss.split(X, y):\n",
    "    print(\"Train:\", train_index, \"Test:\", test_index)\n",
    "    original_Xtrain = X.iloc[train_index]\n",
    "    original_ytrain = y.iloc[train_index]\n",
    "\n",
    "original_Xtrain = original_Xtrain.values\n",
    "original_ytrain = original_ytrain.values\n",
    "\n",
    "sm = SMOTE(sampling_strategy='minority', random_state=42)\n",
    "Xsm_train, ysm_train = sm.fit_resample(original_Xtrain, original_ytrain)\n",
    "\n",
    "save('./data/training_samples.npy', Xsm_train)\n",
    "save('./data/training_labels.npy', ysm_train)"
   ]
  },
  {
   "cell_type": "markdown",
   "id": "5d586d15-e1bd-4fe1-8590-8ad88e74ac62",
   "metadata": {},
   "source": [
    "# Model training"
   ]
  },
  {
   "cell_type": "code",
   "execution_count": null,
   "id": "16e70761-0a9f-42e6-b42e-a5c4210ae4ec",
   "metadata": {
    "scrolled": true,
    "tags": []
   },
   "outputs": [],
   "source": [
    "epoch_count = 20\n",
    "learning_rate = 0.001\n",
    "\n",
    "Xsm_train = load('./data/training_samples.npy')\n",
    "ysm_train = load('./data/training_labels.npy')\n",
    "n_inputs = Xsm_train.shape[1]\n",
    "\n",
    "oversample_model = Sequential([\n",
    "    Dense(n_inputs, input_shape=(n_inputs, ), activation='relu'),\n",
    "    Dense(32, activation='relu'),\n",
    "    Dense(2, activation='softmax'),\n",
    "])\n",
    "oversample_model.compile(\n",
    "    Adam(learning_rate=learning_rate),\n",
    "    loss='sparse_categorical_crossentropy',\n",
    "    metrics=['accuracy'],\n",
    ")\n",
    "training_metrics = oversample_model.fit(\n",
    "    Xsm_train,\n",
    "    ysm_train,\n",
    "    validation_split=0.2,\n",
    "    batch_size=300,\n",
    "    epochs=epoch_count,\n",
    "    shuffle=True,\n",
    "    verbose=2,\n",
    ")\n",
    "accuracy = training_metrics.history['accuracy'][-1]\n",
    "print(f'finished training model with final accuracy score of {accuracy}')\n",
    "onnx_model, _ = convert.from_keras(oversample_model)\n",
    "onnx.save(onnx_model, 'model.onnx')"
   ]
  },
  {
   "cell_type": "markdown",
   "id": "106fc0c8-5594-4141-a141-f627a7051c75",
   "metadata": {},
   "source": [
    "# Model upload"
   ]
  },
  {
   "cell_type": "code",
   "execution_count": null,
   "id": "20d8f879-012c-401b-b902-f06df03914f0",
   "metadata": {
    "tags": []
   },
   "outputs": [],
   "source": [
    "timestamp = datetime.now().strftime('%y%m%d%H%M')\n",
    "s3_prefix = f'models/{timestamp}'\n",
    "\n",
    "s3_params = S3Params(\n",
    "    bucket_name=s3_bucket_name,\n",
    "    s3_prefix=s3_prefix,\n",
    "    access_key_id=s3_access_key,\n",
    "    secret_access_key=s3_secret_key,\n",
    "    endpoint_url=s3_endpoint_url\n",
    ")\n",
    "\n",
    "sa_token_file_path = '/var/run/secrets/kubernetes.io/serviceaccount/token'\n",
    "with open(sa_token_file_path, 'r') as token_file:\n",
    "    auth_token = token_file.read()\n",
    "\n",
    "registry = ModelRegistry(\n",
    "    server_address=model_registry_endpoint_url,\n",
    "    port=443,\n",
    "    author='user',\n",
    "    user_token=auth_token\n",
    ")\n",
    "\n",
    "model_description = '''\n",
    "Shallow neural network trained on Credit Card Fraud Detector dataset \n",
    "(https://www.kaggle.com/code/janiobachmann/credit-fraud-dealing-with-imbalanced-datasets).\\n\n",
    "Deployed model expects input vector of shape [1, 30] with FP32-type values, \n",
    "returns vector of shape [1, 2] with FP32-type values denoting predicted \n",
    "probabilities for non-fraud / fraud. See sample:\n",
    "https://github.com/mamurak/os-mlops/blob/main/notebooks/fraud-detection-onnx/online-scoring.ipynb\n",
    "'''\n",
    "registry.upload_artifact_and_register_model(\n",
    "    name='fraud-detection',\n",
    "    model_files_path='model.onnx',\n",
    "    upload_params=s3_params,\n",
    "    version=timestamp,\n",
    "    description=model_description,\n",
    "    model_format_name='onnx',\n",
    "    model_format_version='1',\n",
    "    storage_key='aws-connection-fraud-detection',\n",
    "    metadata={\n",
    "        'epoch_count': str(epoch_count),\n",
    "        'learning_rate': str(learning_rate),\n",
    "        'accuracy': str(accuracy),\n",
    "        'fraud-detection': '',\n",
    "        'onnx': '',\n",
    "    }\n",
    ")\n",
    "print(f'model uploaded to {s3_prefix} and registered as version {timestamp}')"
   ]
  }
 ],
 "metadata": {
  "kernelspec": {
   "display_name": "Python 3.11",
   "language": "python",
   "name": "python3"
  },
  "language_info": {
   "codemirror_mode": {
    "name": "ipython",
    "version": 3
   },
   "file_extension": ".py",
   "mimetype": "text/x-python",
   "name": "python",
   "nbconvert_exporter": "python",
   "pygments_lexer": "ipython3",
   "version": "3.11.11"
  }
 },
 "nbformat": 4,
 "nbformat_minor": 5
}
