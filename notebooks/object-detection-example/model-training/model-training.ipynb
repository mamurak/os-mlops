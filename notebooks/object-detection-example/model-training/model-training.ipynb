{
 "cells": [
  {
   "cell_type": "code",
   "execution_count": null,
   "id": "05c362d8-c612-498e-9fd4-4f2e5a613d4b",
   "metadata": {
    "tags": []
   },
   "outputs": [],
   "source": [
    "from data_ingestion import ingest_data\n",
    "from preprocessing import preprocess_data\n",
    "from model_training import train_model"
   ]
  },
  {
   "cell_type": "code",
   "execution_count": null,
   "id": "7861e0b2-ff5b-4c2b-8d85-f6031974ac92",
   "metadata": {
    "tags": []
   },
   "outputs": [],
   "source": [
    "ingest_data()"
   ]
  },
  {
   "cell_type": "code",
   "execution_count": null,
   "id": "ed0354ab-2bc6-493d-8d46-278b1808b732",
   "metadata": {
    "tags": []
   },
   "outputs": [],
   "source": [
    "preprocess_data()"
   ]
  },
  {
   "cell_type": "code",
   "execution_count": null,
   "id": "3f1e6912-6687-4ed7-9736-41f88aa79603",
   "metadata": {
    "tags": []
   },
   "outputs": [],
   "source": [
    "model = train_model(batch_size=2, epochs=1)"
   ]
  },
  {
   "cell_type": "code",
   "execution_count": null,
   "id": "15b47961-2f28-4054-ad0b-c5c3b20d1ea5",
   "metadata": {},
   "outputs": [],
   "source": [
    "validation_results = model.val()"
   ]
  },
  {
   "cell_type": "code",
   "execution_count": null,
   "id": "957d8a41-6fa2-4751-ae9c-634543f8050e",
   "metadata": {
    "tags": []
   },
   "outputs": [],
   "source": [
    "validation_results.box.r_curve"
   ]
  },
  {
   "cell_type": "code",
   "execution_count": null,
   "id": "ea042f03-eafc-4d4a-bdb7-022675699232",
   "metadata": {
    "tags": []
   },
   "outputs": [],
   "source": [
    "validation_results.confusion_matrix.matrix"
   ]
  },
  {
   "cell_type": "code",
   "execution_count": null,
   "id": "521fc0a0-98ee-464d-ae3e-e01e9339364b",
   "metadata": {
    "tags": []
   },
   "outputs": [],
   "source": [
    "validation_results.box.f1"
   ]
  },
  {
   "cell_type": "code",
   "execution_count": null,
   "id": "da1d566d-a358-4437-a8fe-15bc3914db30",
   "metadata": {
    "tags": []
   },
   "outputs": [],
   "source": [
    "validation_results.class_result(0)"
   ]
  },
  {
   "cell_type": "code",
   "execution_count": null,
   "id": "f3f0c41c-ef80-4a10-99dc-d9f9c45c3c1b",
   "metadata": {},
   "outputs": [],
   "source": []
  }
 ],
 "metadata": {
  "kernelspec": {
   "display_name": "Python 3.9",
   "language": "python",
   "name": "python3"
  },
  "language_info": {
   "codemirror_mode": {
    "name": "ipython",
    "version": 3
   },
   "file_extension": ".py",
   "mimetype": "text/x-python",
   "name": "python",
   "nbconvert_exporter": "python",
   "pygments_lexer": "ipython3",
   "version": "3.9.18"
  }
 },
 "nbformat": 4,
 "nbformat_minor": 5
}
