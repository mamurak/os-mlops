{
 "cells": [
  {
   "cell_type": "code",
   "execution_count": null,
   "id": "681fbf30-16f5-4cb7-8b20-79c236a6d60f",
   "metadata": {
    "scrolled": true
   },
   "outputs": [],
   "source": [
    "!pip install openai"
   ]
  },
  {
   "cell_type": "code",
   "execution_count": null,
   "id": "d76d7385-78c8-42cb-a36a-161a0f0a1fc3",
   "metadata": {},
   "outputs": [],
   "source": [
    "from IPython.display import Audio\n",
    "from openai import OpenAI\n",
    "from requests import post\n",
    "\n",
    "\n",
    "model_name = 'REPLACE_ME'\n",
    "whisper_url = 'REPLACE_ME'  # add port 8080 for internal service URLs\n",
    "api_key = 'None'"
   ]
  },
  {
   "cell_type": "markdown",
   "id": "c0f86ec6-8eb8-41ce-bd22-58a7f8a8ba47",
   "metadata": {},
   "source": [
    "Review the sample audio file"
   ]
  },
  {
   "cell_type": "code",
   "execution_count": null,
   "id": "a5e2a122-0666-45a9-9c47-773e4a73365a",
   "metadata": {},
   "outputs": [],
   "source": [
    "sample_path = 'common_voice_en_100363.mp3'\n",
    "print('expect silence during the first 8 seconds')\n",
    "Audio(sample_path)"
   ]
  },
  {
   "cell_type": "markdown",
   "id": "94a3c181-f59e-45da-bcc9-f52d2d1eb29c",
   "metadata": {},
   "source": [
    "### Consume Whisper via HTTP"
   ]
  },
  {
   "cell_type": "code",
   "execution_count": null,
   "id": "c4f47c40-6440-4b5e-a608-42b191064f34",
   "metadata": {},
   "outputs": [],
   "source": [
    "transcriptions_endpoint = f'{whisper_url}/v1/audio/transcriptions'\n",
    "with open(sample_path, 'rb') as inputfile:\n",
    "    sample_audio = inputfile.read()\n",
    "    payload = {'file': (sample, sample_audio, 'audio/mp3')}\n",
    "    raw_response = post(transcriptions_endpoint, files=payload)\n",
    "\n",
    "try:\n",
    "    response = raw_response.json()\n",
    "    print(f'received response:\\n{response}')\n",
    "except Exception:\n",
    "    print(f'response extraction failed. received:\\n{response.text}')"
   ]
  },
  {
   "cell_type": "markdown",
   "id": "a601754e-93d4-496b-bf40-5e325fea3d48",
   "metadata": {},
   "source": [
    "### Consume Whisper via OpenAI client"
   ]
  },
  {
   "cell_type": "code",
   "execution_count": null,
   "id": "17f7d0eb-eab6-457a-99fd-a3df38289e9a",
   "metadata": {},
   "outputs": [],
   "source": [
    "openai_client = OpenAI(\n",
    "    base_url=f'{whisper_url}/v1', api_key=api_key\n",
    ")\n",
    "audio_file = open(sample_path, \"rb\")\n",
    "transcript = openai_client.audio.transcriptions.create(\n",
    "  model=model_name,\n",
    "  file=audio_file\n",
    ")\n",
    "print(f'received response: {transcript}')"
   ]
  },
  {
   "cell_type": "code",
   "execution_count": null,
   "id": "5493d2d4-1281-4485-bf01-37b14459a9e2",
   "metadata": {},
   "outputs": [],
   "source": []
  }
 ],
 "metadata": {
  "kernelspec": {
   "display_name": "Python 3.12",
   "language": "python",
   "name": "python3"
  },
  "language_info": {
   "codemirror_mode": {
    "name": "ipython",
    "version": 3
   },
   "file_extension": ".py",
   "mimetype": "text/x-python",
   "name": "python",
   "nbconvert_exporter": "python",
   "pygments_lexer": "ipython3",
   "version": "3.12.9"
  }
 },
 "nbformat": 4,
 "nbformat_minor": 5
}
